{
 "cells": [
  {
   "cell_type": "code",
   "execution_count": 41,
   "metadata": {},
   "outputs": [],
   "source": [
    "import pandas as pd\n",
    "import numpy as np\n",
    "import seaborn as sns\n",
    "import matplotlib.pyplot as plt\n",
    "from sklearn.preprocessing import StandardScaler #표준화 패키지 라이브러리\n",
    "from sklearn.decomposition import PCA   #주요인자탐지\n",
    "from mpl_toolkits.mplot3d import Axes3D  #3차원 그래프 라이브러리\n",
    "import warnings\n",
    "warnings.filterwarnings('ignore')"
   ]
  },
  {
   "cell_type": "markdown",
   "metadata": {},
   "source": [
    "데이터 확인 및 기본 데이터 분석\n",
    "-> 통계량 확인, 데이터 추출, 그룹화"
   ]
  },
  {
   "cell_type": "code",
   "execution_count": 2,
   "metadata": {},
   "outputs": [
    {
     "name": "stdout",
     "output_type": "stream",
     "text": [
      "<class 'pandas.core.frame.DataFrame'>\n",
      "RangeIndex: 90 entries, 0 to 89\n",
      "Data columns (total 6 columns):\n",
      "Unnamed: 0    90 non-null int64\n",
      "id            90 non-null int64\n",
      "diet          90 non-null category\n",
      "pulse         90 non-null int64\n",
      "time          90 non-null category\n",
      "kind          90 non-null category\n",
      "dtypes: category(3), int64(3)\n",
      "memory usage: 2.6 KB\n"
     ]
    }
   ],
   "source": [
    "data = sns.load_dataset('exercise')\n",
    "data.info()"
   ]
  },
  {
   "cell_type": "code",
   "execution_count": 3,
   "metadata": {},
   "outputs": [
    {
     "data": {
      "text/html": [
       "<div>\n",
       "<style scoped>\n",
       "    .dataframe tbody tr th:only-of-type {\n",
       "        vertical-align: middle;\n",
       "    }\n",
       "\n",
       "    .dataframe tbody tr th {\n",
       "        vertical-align: top;\n",
       "    }\n",
       "\n",
       "    .dataframe thead th {\n",
       "        text-align: right;\n",
       "    }\n",
       "</style>\n",
       "<table border=\"1\" class=\"dataframe\">\n",
       "  <thead>\n",
       "    <tr style=\"text-align: right;\">\n",
       "      <th></th>\n",
       "      <th>Unnamed: 0</th>\n",
       "      <th>id</th>\n",
       "      <th>diet</th>\n",
       "      <th>pulse</th>\n",
       "      <th>time</th>\n",
       "      <th>kind</th>\n",
       "    </tr>\n",
       "  </thead>\n",
       "  <tbody>\n",
       "    <tr>\n",
       "      <th>0</th>\n",
       "      <td>0</td>\n",
       "      <td>1</td>\n",
       "      <td>low fat</td>\n",
       "      <td>85</td>\n",
       "      <td>1 min</td>\n",
       "      <td>rest</td>\n",
       "    </tr>\n",
       "    <tr>\n",
       "      <th>1</th>\n",
       "      <td>1</td>\n",
       "      <td>1</td>\n",
       "      <td>low fat</td>\n",
       "      <td>85</td>\n",
       "      <td>15 min</td>\n",
       "      <td>rest</td>\n",
       "    </tr>\n",
       "    <tr>\n",
       "      <th>2</th>\n",
       "      <td>2</td>\n",
       "      <td>1</td>\n",
       "      <td>low fat</td>\n",
       "      <td>88</td>\n",
       "      <td>30 min</td>\n",
       "      <td>rest</td>\n",
       "    </tr>\n",
       "    <tr>\n",
       "      <th>3</th>\n",
       "      <td>3</td>\n",
       "      <td>2</td>\n",
       "      <td>low fat</td>\n",
       "      <td>90</td>\n",
       "      <td>1 min</td>\n",
       "      <td>rest</td>\n",
       "    </tr>\n",
       "    <tr>\n",
       "      <th>4</th>\n",
       "      <td>4</td>\n",
       "      <td>2</td>\n",
       "      <td>low fat</td>\n",
       "      <td>92</td>\n",
       "      <td>15 min</td>\n",
       "      <td>rest</td>\n",
       "    </tr>\n",
       "  </tbody>\n",
       "</table>\n",
       "</div>"
      ],
      "text/plain": [
       "   Unnamed: 0  id     diet  pulse    time  kind\n",
       "0           0   1  low fat     85   1 min  rest\n",
       "1           1   1  low fat     85  15 min  rest\n",
       "2           2   1  low fat     88  30 min  rest\n",
       "3           3   2  low fat     90   1 min  rest\n",
       "4           4   2  low fat     92  15 min  rest"
      ]
     },
     "execution_count": 3,
     "metadata": {},
     "output_type": "execute_result"
    }
   ],
   "source": [
    "data.head()"
   ]
  },
  {
   "cell_type": "code",
   "execution_count": 4,
   "metadata": {},
   "outputs": [
    {
     "data": {
      "text/html": [
       "<div>\n",
       "<style scoped>\n",
       "    .dataframe tbody tr th:only-of-type {\n",
       "        vertical-align: middle;\n",
       "    }\n",
       "\n",
       "    .dataframe tbody tr th {\n",
       "        vertical-align: top;\n",
       "    }\n",
       "\n",
       "    .dataframe thead th {\n",
       "        text-align: right;\n",
       "    }\n",
       "</style>\n",
       "<table border=\"1\" class=\"dataframe\">\n",
       "  <thead>\n",
       "    <tr style=\"text-align: right;\">\n",
       "      <th></th>\n",
       "      <th>Unnamed: 0</th>\n",
       "      <th>id</th>\n",
       "      <th>pulse</th>\n",
       "    </tr>\n",
       "  </thead>\n",
       "  <tbody>\n",
       "    <tr>\n",
       "      <th>count</th>\n",
       "      <td>90.00</td>\n",
       "      <td>90.0</td>\n",
       "      <td>90.00</td>\n",
       "    </tr>\n",
       "    <tr>\n",
       "      <th>mean</th>\n",
       "      <td>44.50</td>\n",
       "      <td>15.5</td>\n",
       "      <td>99.70</td>\n",
       "    </tr>\n",
       "    <tr>\n",
       "      <th>std</th>\n",
       "      <td>26.12</td>\n",
       "      <td>8.7</td>\n",
       "      <td>14.86</td>\n",
       "    </tr>\n",
       "    <tr>\n",
       "      <th>min</th>\n",
       "      <td>0.00</td>\n",
       "      <td>1.0</td>\n",
       "      <td>80.00</td>\n",
       "    </tr>\n",
       "    <tr>\n",
       "      <th>25%</th>\n",
       "      <td>22.25</td>\n",
       "      <td>8.0</td>\n",
       "      <td>90.25</td>\n",
       "    </tr>\n",
       "    <tr>\n",
       "      <th>50%</th>\n",
       "      <td>44.50</td>\n",
       "      <td>15.5</td>\n",
       "      <td>96.00</td>\n",
       "    </tr>\n",
       "    <tr>\n",
       "      <th>75%</th>\n",
       "      <td>66.75</td>\n",
       "      <td>23.0</td>\n",
       "      <td>103.00</td>\n",
       "    </tr>\n",
       "    <tr>\n",
       "      <th>max</th>\n",
       "      <td>89.00</td>\n",
       "      <td>30.0</td>\n",
       "      <td>150.00</td>\n",
       "    </tr>\n",
       "  </tbody>\n",
       "</table>\n",
       "</div>"
      ],
      "text/plain": [
       "       Unnamed: 0    id   pulse\n",
       "count       90.00  90.0   90.00\n",
       "mean        44.50  15.5   99.70\n",
       "std         26.12   8.7   14.86\n",
       "min          0.00   1.0   80.00\n",
       "25%         22.25   8.0   90.25\n",
       "50%         44.50  15.5   96.00\n",
       "75%         66.75  23.0  103.00\n",
       "max         89.00  30.0  150.00"
      ]
     },
     "execution_count": 4,
     "metadata": {},
     "output_type": "execute_result"
    }
   ],
   "source": [
    "data.describe().round(2)    #기초 통계량 확인"
   ]
  },
  {
   "cell_type": "code",
   "execution_count": 5,
   "metadata": {},
   "outputs": [
    {
     "data": {
      "text/html": [
       "<div>\n",
       "<style scoped>\n",
       "    .dataframe tbody tr th:only-of-type {\n",
       "        vertical-align: middle;\n",
       "    }\n",
       "\n",
       "    .dataframe tbody tr th {\n",
       "        vertical-align: top;\n",
       "    }\n",
       "\n",
       "    .dataframe thead th {\n",
       "        text-align: right;\n",
       "    }\n",
       "</style>\n",
       "<table border=\"1\" class=\"dataframe\">\n",
       "  <thead>\n",
       "    <tr style=\"text-align: right;\">\n",
       "      <th></th>\n",
       "      <th>Unnamed: 0</th>\n",
       "      <th>id</th>\n",
       "      <th>pulse</th>\n",
       "    </tr>\n",
       "    <tr>\n",
       "      <th>time</th>\n",
       "      <th></th>\n",
       "      <th></th>\n",
       "      <th></th>\n",
       "    </tr>\n",
       "  </thead>\n",
       "  <tbody>\n",
       "    <tr>\n",
       "      <th>1 min</th>\n",
       "      <td>43.5</td>\n",
       "      <td>15.5</td>\n",
       "      <td>93.13</td>\n",
       "    </tr>\n",
       "    <tr>\n",
       "      <th>15 min</th>\n",
       "      <td>44.5</td>\n",
       "      <td>15.5</td>\n",
       "      <td>101.53</td>\n",
       "    </tr>\n",
       "    <tr>\n",
       "      <th>30 min</th>\n",
       "      <td>45.5</td>\n",
       "      <td>15.5</td>\n",
       "      <td>104.43</td>\n",
       "    </tr>\n",
       "  </tbody>\n",
       "</table>\n",
       "</div>"
      ],
      "text/plain": [
       "        Unnamed: 0    id   pulse\n",
       "time                            \n",
       "1 min         43.5  15.5   93.13\n",
       "15 min        44.5  15.5  101.53\n",
       "30 min        45.5  15.5  104.43"
      ]
     },
     "execution_count": 5,
     "metadata": {},
     "output_type": "execute_result"
    }
   ],
   "source": [
    "data.groupby(data.time).mean().round(2)   #time으로 그룹화한 칼럼들의 평균"
   ]
  },
  {
   "cell_type": "code",
   "execution_count": 6,
   "metadata": {},
   "outputs": [
    {
     "data": {
      "text/html": [
       "<div>\n",
       "<style scoped>\n",
       "    .dataframe tbody tr th:only-of-type {\n",
       "        vertical-align: middle;\n",
       "    }\n",
       "\n",
       "    .dataframe tbody tr th {\n",
       "        vertical-align: top;\n",
       "    }\n",
       "\n",
       "    .dataframe thead th {\n",
       "        text-align: right;\n",
       "    }\n",
       "</style>\n",
       "<table border=\"1\" class=\"dataframe\">\n",
       "  <thead>\n",
       "    <tr style=\"text-align: right;\">\n",
       "      <th></th>\n",
       "      <th>Unnamed: 0</th>\n",
       "      <th>id</th>\n",
       "      <th>pulse</th>\n",
       "    </tr>\n",
       "    <tr>\n",
       "      <th>diet</th>\n",
       "      <th></th>\n",
       "      <th></th>\n",
       "      <th></th>\n",
       "    </tr>\n",
       "  </thead>\n",
       "  <tbody>\n",
       "    <tr>\n",
       "      <th>no fat</th>\n",
       "      <td>52.0</td>\n",
       "      <td>18.0</td>\n",
       "      <td>103.44</td>\n",
       "    </tr>\n",
       "    <tr>\n",
       "      <th>low fat</th>\n",
       "      <td>37.0</td>\n",
       "      <td>13.0</td>\n",
       "      <td>95.96</td>\n",
       "    </tr>\n",
       "  </tbody>\n",
       "</table>\n",
       "</div>"
      ],
      "text/plain": [
       "         Unnamed: 0    id   pulse\n",
       "diet                             \n",
       "no fat         52.0  18.0  103.44\n",
       "low fat        37.0  13.0   95.96"
      ]
     },
     "execution_count": 6,
     "metadata": {},
     "output_type": "execute_result"
    }
   ],
   "source": [
    "data.groupby(data.diet).mean().round(2)   #diet로 그룹화한 칼럼들의 평균"
   ]
  },
  {
   "cell_type": "code",
   "execution_count": 7,
   "metadata": {},
   "outputs": [
    {
     "data": {
      "text/html": [
       "<div>\n",
       "<style scoped>\n",
       "    .dataframe tbody tr th:only-of-type {\n",
       "        vertical-align: middle;\n",
       "    }\n",
       "\n",
       "    .dataframe tbody tr th {\n",
       "        vertical-align: top;\n",
       "    }\n",
       "\n",
       "    .dataframe thead th {\n",
       "        text-align: right;\n",
       "    }\n",
       "</style>\n",
       "<table border=\"1\" class=\"dataframe\">\n",
       "  <thead>\n",
       "    <tr style=\"text-align: right;\">\n",
       "      <th></th>\n",
       "      <th>Unnamed: 0</th>\n",
       "      <th>id</th>\n",
       "      <th>pulse</th>\n",
       "    </tr>\n",
       "    <tr>\n",
       "      <th>kind</th>\n",
       "      <th></th>\n",
       "      <th></th>\n",
       "      <th></th>\n",
       "    </tr>\n",
       "  </thead>\n",
       "  <tbody>\n",
       "    <tr>\n",
       "      <th>rest</th>\n",
       "      <td>14.5</td>\n",
       "      <td>5.5</td>\n",
       "      <td>90.83</td>\n",
       "    </tr>\n",
       "    <tr>\n",
       "      <th>walking</th>\n",
       "      <td>44.5</td>\n",
       "      <td>15.5</td>\n",
       "      <td>95.20</td>\n",
       "    </tr>\n",
       "    <tr>\n",
       "      <th>running</th>\n",
       "      <td>74.5</td>\n",
       "      <td>25.5</td>\n",
       "      <td>113.07</td>\n",
       "    </tr>\n",
       "  </tbody>\n",
       "</table>\n",
       "</div>"
      ],
      "text/plain": [
       "         Unnamed: 0    id   pulse\n",
       "kind                             \n",
       "rest           14.5   5.5   90.83\n",
       "walking        44.5  15.5   95.20\n",
       "running        74.5  25.5  113.07"
      ]
     },
     "execution_count": 7,
     "metadata": {},
     "output_type": "execute_result"
    }
   ],
   "source": [
    "data.groupby(data.kind).mean().round(2)    #kind로 그룹화한 칼럼들의 평균"
   ]
  },
  {
   "cell_type": "code",
   "execution_count": 8,
   "metadata": {},
   "outputs": [
    {
     "data": {
      "text/html": [
       "<div>\n",
       "<style scoped>\n",
       "    .dataframe tbody tr th:only-of-type {\n",
       "        vertical-align: middle;\n",
       "    }\n",
       "\n",
       "    .dataframe tbody tr th {\n",
       "        vertical-align: top;\n",
       "    }\n",
       "\n",
       "    .dataframe thead th {\n",
       "        text-align: right;\n",
       "    }\n",
       "</style>\n",
       "<table border=\"1\" class=\"dataframe\">\n",
       "  <thead>\n",
       "    <tr style=\"text-align: right;\">\n",
       "      <th></th>\n",
       "      <th>Unnamed: 0</th>\n",
       "      <th>id</th>\n",
       "      <th>diet</th>\n",
       "      <th>pulse</th>\n",
       "      <th>time</th>\n",
       "      <th>kind</th>\n",
       "    </tr>\n",
       "  </thead>\n",
       "  <tbody>\n",
       "    <tr>\n",
       "      <th>3</th>\n",
       "      <td>3</td>\n",
       "      <td>2</td>\n",
       "      <td>low fat</td>\n",
       "      <td>90</td>\n",
       "      <td>1 min</td>\n",
       "      <td>rest</td>\n",
       "    </tr>\n",
       "    <tr>\n",
       "      <th>4</th>\n",
       "      <td>4</td>\n",
       "      <td>2</td>\n",
       "      <td>low fat</td>\n",
       "      <td>92</td>\n",
       "      <td>15 min</td>\n",
       "      <td>rest</td>\n",
       "    </tr>\n",
       "    <tr>\n",
       "      <th>5</th>\n",
       "      <td>5</td>\n",
       "      <td>2</td>\n",
       "      <td>low fat</td>\n",
       "      <td>93</td>\n",
       "      <td>30 min</td>\n",
       "      <td>rest</td>\n",
       "    </tr>\n",
       "    <tr>\n",
       "      <th>6</th>\n",
       "      <td>6</td>\n",
       "      <td>3</td>\n",
       "      <td>low fat</td>\n",
       "      <td>97</td>\n",
       "      <td>1 min</td>\n",
       "      <td>rest</td>\n",
       "    </tr>\n",
       "    <tr>\n",
       "      <th>7</th>\n",
       "      <td>7</td>\n",
       "      <td>3</td>\n",
       "      <td>low fat</td>\n",
       "      <td>97</td>\n",
       "      <td>15 min</td>\n",
       "      <td>rest</td>\n",
       "    </tr>\n",
       "    <tr>\n",
       "      <th>8</th>\n",
       "      <td>8</td>\n",
       "      <td>3</td>\n",
       "      <td>low fat</td>\n",
       "      <td>94</td>\n",
       "      <td>30 min</td>\n",
       "      <td>rest</td>\n",
       "    </tr>\n",
       "    <tr>\n",
       "      <th>12</th>\n",
       "      <td>12</td>\n",
       "      <td>5</td>\n",
       "      <td>low fat</td>\n",
       "      <td>91</td>\n",
       "      <td>1 min</td>\n",
       "      <td>rest</td>\n",
       "    </tr>\n",
       "    <tr>\n",
       "      <th>13</th>\n",
       "      <td>13</td>\n",
       "      <td>5</td>\n",
       "      <td>low fat</td>\n",
       "      <td>92</td>\n",
       "      <td>15 min</td>\n",
       "      <td>rest</td>\n",
       "    </tr>\n",
       "    <tr>\n",
       "      <th>14</th>\n",
       "      <td>14</td>\n",
       "      <td>5</td>\n",
       "      <td>low fat</td>\n",
       "      <td>91</td>\n",
       "      <td>30 min</td>\n",
       "      <td>rest</td>\n",
       "    </tr>\n",
       "  </tbody>\n",
       "</table>\n",
       "</div>"
      ],
      "text/plain": [
       "    Unnamed: 0  id     diet  pulse    time  kind\n",
       "3            3   2  low fat     90   1 min  rest\n",
       "4            4   2  low fat     92  15 min  rest\n",
       "5            5   2  low fat     93  30 min  rest\n",
       "6            6   3  low fat     97   1 min  rest\n",
       "7            7   3  low fat     97  15 min  rest\n",
       "8            8   3  low fat     94  30 min  rest\n",
       "12          12   5  low fat     91   1 min  rest\n",
       "13          13   5  low fat     92  15 min  rest\n",
       "14          14   5  low fat     91  30 min  rest"
      ]
     },
     "execution_count": 8,
     "metadata": {},
     "output_type": "execute_result"
    }
   ],
   "source": [
    "data.loc[data.diet == 'low fat'][data.kind == 'rest'][data.pulse >= 90]   #diet=low fat, kind = rest이고 pulse가 90이상인 항목 추출"
   ]
  },
  {
   "cell_type": "code",
   "execution_count": 9,
   "metadata": {},
   "outputs": [
    {
     "name": "stdout",
     "output_type": "stream",
     "text": [
      "95.95555555555555 103.44444444444444\n"
     ]
    }
   ],
   "source": [
    "#diet가 low fat인 항목의 pulse 평균, no fat인 항목의 pulse 평균\n",
    "LOW_FAT = data.query('diet == \"low fat\"')['pulse'].mean()\n",
    "NO_FAT = data.query('diet == \"no fat\"')['pulse'].mean()\n",
    "print(LOW_FAT, NO_FAT)"
   ]
  },
  {
   "cell_type": "markdown",
   "metadata": {},
   "source": [
    "데이터 시각화"
   ]
  },
  {
   "cell_type": "code",
   "execution_count": 10,
   "metadata": {},
   "outputs": [
    {
     "data": {
      "image/png": "[encoded data removed]",
      "text/plain": [
       "<Figure size 432x288 with 1 Axes>"
      ]
     },
     "metadata": {
      "needs_background": "light"
     },
     "output_type": "display_data"
    }
   ],
   "source": [
    "sns.barplot(data = data, hue = \"kind\", x = \"diet\", y = \"pulse\")\n",
    "plt.title(\"barplot of kind\")\n",
    "plt.show()"
   ]
  },
  {
   "cell_type": "code",
   "execution_count": 11,
   "metadata": {},
   "outputs": [
    {
     "data": {
      "image/png": "[encoded data removed]",
      "text/plain": [
       "<Figure size 432x288 with 1 Axes>"
      ]
     },
     "metadata": {
      "needs_background": "light"
     },
     "output_type": "display_data"
    }
   ],
   "source": [
    "sns.boxplot(data = data, x = 'diet', y = 'pulse')\n",
    "plt.title('boxplot of diet')\n",
    "plt.show()"
   ]
  },
  {
   "cell_type": "code",
   "execution_count": 12,
   "metadata": {},
   "outputs": [
    {
     "data": {
      "image/png": "[encoded data removed]",
      "text/plain": [
       "<Figure size 432x288 with 1 Axes>"
      ]
     },
     "metadata": {
      "needs_background": "light"
     },
     "output_type": "display_data"
    }
   ],
   "source": [
    "sns.boxplot(data = data, x = 'kind', y = 'pulse')\n",
    "plt.title('boxplot of kind')\n",
    "plt.show()"
   ]
  },
  {
   "cell_type": "markdown",
   "metadata": {},
   "source": [
    "데이터 전처리\n",
    "1. 결측치 확인\n",
    "2. time column 값 변경 : 0 = '1min', 1 = '15min', 2 = '30min'"
   ]
  },
  {
   "cell_type": "code",
   "execution_count": 13,
   "metadata": {},
   "outputs": [
    {
     "data": {
      "text/plain": [
       "Unnamed: 0    0\n",
       "id            0\n",
       "diet          0\n",
       "pulse         0\n",
       "time          0\n",
       "kind          0\n",
       "dtype: int64"
      ]
     },
     "execution_count": 13,
     "metadata": {},
     "output_type": "execute_result"
    }
   ],
   "source": [
    "data.isnull().sum()"
   ]
  },
  {
   "cell_type": "code",
   "execution_count": 6,
   "metadata": {},
   "outputs": [
    {
     "data": {
      "text/html": [
       "<div>\n",
       "<style scoped>\n",
       "    .dataframe tbody tr th:only-of-type {\n",
       "        vertical-align: middle;\n",
       "    }\n",
       "\n",
       "    .dataframe tbody tr th {\n",
       "        vertical-align: top;\n",
       "    }\n",
       "\n",
       "    .dataframe thead th {\n",
       "        text-align: right;\n",
       "    }\n",
       "</style>\n",
       "<table border=\"1\" class=\"dataframe\">\n",
       "  <thead>\n",
       "    <tr style=\"text-align: right;\">\n",
       "      <th></th>\n",
       "      <th>Unnamed: 0</th>\n",
       "      <th>id</th>\n",
       "      <th>diet</th>\n",
       "      <th>pulse</th>\n",
       "      <th>time</th>\n",
       "      <th>kind</th>\n",
       "    </tr>\n",
       "  </thead>\n",
       "  <tbody>\n",
       "    <tr>\n",
       "      <th>0</th>\n",
       "      <td>0</td>\n",
       "      <td>1</td>\n",
       "      <td>1</td>\n",
       "      <td>85</td>\n",
       "      <td>0</td>\n",
       "      <td>rest</td>\n",
       "    </tr>\n",
       "    <tr>\n",
       "      <th>1</th>\n",
       "      <td>1</td>\n",
       "      <td>1</td>\n",
       "      <td>1</td>\n",
       "      <td>85</td>\n",
       "      <td>1</td>\n",
       "      <td>rest</td>\n",
       "    </tr>\n",
       "    <tr>\n",
       "      <th>2</th>\n",
       "      <td>2</td>\n",
       "      <td>1</td>\n",
       "      <td>1</td>\n",
       "      <td>88</td>\n",
       "      <td>2</td>\n",
       "      <td>rest</td>\n",
       "    </tr>\n",
       "    <tr>\n",
       "      <th>3</th>\n",
       "      <td>3</td>\n",
       "      <td>2</td>\n",
       "      <td>1</td>\n",
       "      <td>90</td>\n",
       "      <td>0</td>\n",
       "      <td>rest</td>\n",
       "    </tr>\n",
       "    <tr>\n",
       "      <th>4</th>\n",
       "      <td>4</td>\n",
       "      <td>2</td>\n",
       "      <td>1</td>\n",
       "      <td>92</td>\n",
       "      <td>1</td>\n",
       "      <td>rest</td>\n",
       "    </tr>\n",
       "    <tr>\n",
       "      <th>5</th>\n",
       "      <td>5</td>\n",
       "      <td>2</td>\n",
       "      <td>1</td>\n",
       "      <td>93</td>\n",
       "      <td>2</td>\n",
       "      <td>rest</td>\n",
       "    </tr>\n",
       "    <tr>\n",
       "      <th>6</th>\n",
       "      <td>6</td>\n",
       "      <td>3</td>\n",
       "      <td>1</td>\n",
       "      <td>97</td>\n",
       "      <td>0</td>\n",
       "      <td>rest</td>\n",
       "    </tr>\n",
       "    <tr>\n",
       "      <th>7</th>\n",
       "      <td>7</td>\n",
       "      <td>3</td>\n",
       "      <td>1</td>\n",
       "      <td>97</td>\n",
       "      <td>1</td>\n",
       "      <td>rest</td>\n",
       "    </tr>\n",
       "    <tr>\n",
       "      <th>8</th>\n",
       "      <td>8</td>\n",
       "      <td>3</td>\n",
       "      <td>1</td>\n",
       "      <td>94</td>\n",
       "      <td>2</td>\n",
       "      <td>rest</td>\n",
       "    </tr>\n",
       "    <tr>\n",
       "      <th>9</th>\n",
       "      <td>9</td>\n",
       "      <td>4</td>\n",
       "      <td>1</td>\n",
       "      <td>80</td>\n",
       "      <td>0</td>\n",
       "      <td>rest</td>\n",
       "    </tr>\n",
       "  </tbody>\n",
       "</table>\n",
       "</div>"
      ],
      "text/plain": [
       "   Unnamed: 0  id  diet  pulse  time  kind\n",
       "0           0   1     1     85     0  rest\n",
       "1           1   1     1     85     1  rest\n",
       "2           2   1     1     88     2  rest\n",
       "3           3   2     1     90     0  rest\n",
       "4           4   2     1     92     1  rest\n",
       "5           5   2     1     93     2  rest\n",
       "6           6   3     1     97     0  rest\n",
       "7           7   3     1     97     1  rest\n",
       "8           8   3     1     94     2  rest\n",
       "9           9   4     1     80     0  rest"
      ]
     },
     "execution_count": 6,
     "metadata": {},
     "output_type": "execute_result"
    }
   ],
   "source": [
    "data.time = pd.Categorical(data.time)\n",
    "data.diet = pd.Categorical(data.diet)\n",
    "data['time'] = data.time.cat.codes.astype(int)\n",
    "data['diet'] = data.diet.cat.codes.astype(int)\n",
    "data.head(10)"
   ]
  },
  {
   "cell_type": "markdown",
   "metadata": {},
   "source": [
    "PCA 주요인자 탐지 적용\n",
    "1. 정규화 : kind를 제외한 나머지 feature를 평균 0, 표준편차 1을 기준으로 정규화\n",
    "2. PCA 적용 : 5개의 feature를 2개의 주성분으로 차원 축소\n",
    "3. 시각화"
   ]
  },
  {
   "cell_type": "code",
   "execution_count": 85,
   "metadata": {},
   "outputs": [
    {
     "data": {
      "text/html": [
       "<div>\n",
       "<style scoped>\n",
       "    .dataframe tbody tr th:only-of-type {\n",
       "        vertical-align: middle;\n",
       "    }\n",
       "\n",
       "    .dataframe tbody tr th {\n",
       "        vertical-align: top;\n",
       "    }\n",
       "\n",
       "    .dataframe thead th {\n",
       "        text-align: right;\n",
       "    }\n",
       "</style>\n",
       "<table border=\"1\" class=\"dataframe\">\n",
       "  <thead>\n",
       "    <tr style=\"text-align: right;\">\n",
       "      <th></th>\n",
       "      <th>Unnamed:0</th>\n",
       "      <th>id</th>\n",
       "      <th>diet</th>\n",
       "      <th>pulse</th>\n",
       "      <th>time</th>\n",
       "      <th>target</th>\n",
       "    </tr>\n",
       "  </thead>\n",
       "  <tbody>\n",
       "    <tr>\n",
       "      <th>0</th>\n",
       "      <td>-1.712912</td>\n",
       "      <td>-1.675247</td>\n",
       "      <td>1.0</td>\n",
       "      <td>-0.994877</td>\n",
       "      <td>-1.224745</td>\n",
       "      <td>rest</td>\n",
       "    </tr>\n",
       "    <tr>\n",
       "      <th>1</th>\n",
       "      <td>-1.674419</td>\n",
       "      <td>-1.675247</td>\n",
       "      <td>1.0</td>\n",
       "      <td>-0.994877</td>\n",
       "      <td>0.000000</td>\n",
       "      <td>rest</td>\n",
       "    </tr>\n",
       "    <tr>\n",
       "      <th>2</th>\n",
       "      <td>-1.635927</td>\n",
       "      <td>-1.675247</td>\n",
       "      <td>1.0</td>\n",
       "      <td>-0.791841</td>\n",
       "      <td>1.224745</td>\n",
       "      <td>rest</td>\n",
       "    </tr>\n",
       "    <tr>\n",
       "      <th>3</th>\n",
       "      <td>-1.597434</td>\n",
       "      <td>-1.559712</td>\n",
       "      <td>1.0</td>\n",
       "      <td>-0.656484</td>\n",
       "      <td>-1.224745</td>\n",
       "      <td>rest</td>\n",
       "    </tr>\n",
       "    <tr>\n",
       "      <th>4</th>\n",
       "      <td>-1.558942</td>\n",
       "      <td>-1.559712</td>\n",
       "      <td>1.0</td>\n",
       "      <td>-0.521126</td>\n",
       "      <td>0.000000</td>\n",
       "      <td>rest</td>\n",
       "    </tr>\n",
       "    <tr>\n",
       "      <th>5</th>\n",
       "      <td>-1.520450</td>\n",
       "      <td>-1.559712</td>\n",
       "      <td>1.0</td>\n",
       "      <td>-0.453447</td>\n",
       "      <td>1.224745</td>\n",
       "      <td>rest</td>\n",
       "    </tr>\n",
       "    <tr>\n",
       "      <th>6</th>\n",
       "      <td>-1.481957</td>\n",
       "      <td>-1.444178</td>\n",
       "      <td>1.0</td>\n",
       "      <td>-0.182733</td>\n",
       "      <td>-1.224745</td>\n",
       "      <td>rest</td>\n",
       "    </tr>\n",
       "    <tr>\n",
       "      <th>7</th>\n",
       "      <td>-1.443465</td>\n",
       "      <td>-1.444178</td>\n",
       "      <td>1.0</td>\n",
       "      <td>-0.182733</td>\n",
       "      <td>0.000000</td>\n",
       "      <td>rest</td>\n",
       "    </tr>\n",
       "    <tr>\n",
       "      <th>8</th>\n",
       "      <td>-1.404972</td>\n",
       "      <td>-1.444178</td>\n",
       "      <td>1.0</td>\n",
       "      <td>-0.385769</td>\n",
       "      <td>1.224745</td>\n",
       "      <td>rest</td>\n",
       "    </tr>\n",
       "    <tr>\n",
       "      <th>9</th>\n",
       "      <td>-1.366480</td>\n",
       "      <td>-1.328644</td>\n",
       "      <td>1.0</td>\n",
       "      <td>-1.333271</td>\n",
       "      <td>-1.224745</td>\n",
       "      <td>rest</td>\n",
       "    </tr>\n",
       "  </tbody>\n",
       "</table>\n",
       "</div>"
      ],
      "text/plain": [
       "   Unnamed:0        id  diet     pulse      time target\n",
       "0  -1.712912 -1.675247   1.0 -0.994877 -1.224745   rest\n",
       "1  -1.674419 -1.675247   1.0 -0.994877  0.000000   rest\n",
       "2  -1.635927 -1.675247   1.0 -0.791841  1.224745   rest\n",
       "3  -1.597434 -1.559712   1.0 -0.656484 -1.224745   rest\n",
       "4  -1.558942 -1.559712   1.0 -0.521126  0.000000   rest\n",
       "5  -1.520450 -1.559712   1.0 -0.453447  1.224745   rest\n",
       "6  -1.481957 -1.444178   1.0 -0.182733 -1.224745   rest\n",
       "7  -1.443465 -1.444178   1.0 -0.182733  0.000000   rest\n",
       "8  -1.404972 -1.444178   1.0 -0.385769  1.224745   rest\n",
       "9  -1.366480 -1.328644   1.0 -1.333271 -1.224745   rest"
      ]
     },
     "execution_count": 85,
     "metadata": {},
     "output_type": "execute_result"
    }
   ],
   "source": [
    "x = data.drop(['kind'], axis = 1)\n",
    "y = data['kind'].values\n",
    "\n",
    "x = StandardScaler().fit_transform(x)\n",
    "features = ['Unnamed:0', 'id', 'diet', 'pulse', 'time']\n",
    "data_scaled = pd.DataFrame(x , columns = features)\n",
    "data_scaled['target'] = data.kind\n",
    "data_scaled.head(10)"
   ]
  },
  {
   "cell_type": "code",
   "execution_count": 86,
   "metadata": {},
   "outputs": [
    {
     "name": "stdout",
     "output_type": "stream",
     "text": [
      "[0.54804072 0.21760297]\n"
     ]
    }
   ],
   "source": [
    "model = PCA(n_components = 2)\n",
    "model_components = model.fit_transform(x)\n",
    "df = pd.DataFrame(data = model_components, \n",
    "                  columns = ['principal component 1', 'principal component 2'])\n",
    "result = pd.concat([df, data_scaled[['target']]], axis = 1)\n",
    "print(model.explained_variance_ratio_)   #pca 주성분 설명력"
   ]
  },
  {
   "cell_type": "code",
   "execution_count": 89,
   "metadata": {},
   "outputs": [
    {
     "data": {
      "image/png": "[encoded data removed]",
      "text/plain": [
       "<Figure size 720x720 with 1 Axes>"
      ]
     },
     "metadata": {
      "needs_background": "light"
     },
     "output_type": "display_data"
    }
   ],
   "source": [
    "fig = plt.figure(figsize = (10,10))\n",
    "ax = fig.add_subplot(1,1,1)\n",
    "ax.set_xlabel('Principal Component 1', fontsize = 15)\n",
    "ax.set_ylabel('Principal Component 2', fontsize = 15)\n",
    "ax.set_title('3 component PCA', fontsize = 20)\n",
    "\n",
    "kinds = ['reset', 'walking', 'running']\n",
    "colors = ['r','g','b']\n",
    "\n",
    "for target, color in zip(kinds, colors):\n",
    "    indicesToKeep = result['target'] == target\n",
    "    ax.scatter(result.loc[indicesToKeep, 'principal component 1'],\n",
    "              result.loc[indicesToKeep, 'principal component 2'],\n",
    "               c = color, s = 50)\n",
    "ax.legend(kinds)\n",
    "ax.grid()\n",
    "plt.show()"
   ]
  },
  {
   "cell_type": "code",
   "execution_count": null,
   "metadata": {},
   "outputs": [],
   "source": []
  }
 ],
 "metadata": {
  "kernelspec": {
   "display_name": "Python 3",
   "language": "python",
   "name": "python3"
  },
  "language_info": {
   "codemirror_mode": {
    "name": "ipython",
    "version": 3
   },
   "file_extension": ".py",
   "mimetype": "text/x-python",
   "name": "python",
   "nbconvert_exporter": "python",
   "pygments_lexer": "ipython3",
   "version": "3.7.3"
  }
 },
 "nbformat": 4,
 "nbformat_minor": 2
}
